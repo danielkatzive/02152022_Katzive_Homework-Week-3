{
 "cells": [
  {
   "cell_type": "code",
   "execution_count": 3,
   "id": "4114b28b",
   "metadata": {},
   "outputs": [],
   "source": [
    "PPP=45300000"
   ]
  },
  {
   "cell_type": "code",
   "execution_count": 4,
   "id": "fe5fda0f",
   "metadata": {},
   "outputs": [
    {
     "name": "stdout",
     "output_type": "stream",
     "text": [
      "Paycheck Protection Plan loans totalled $45 million in 2021\n"
     ]
    }
   ],
   "source": [
    "print(f\"Paycheck Protection Plan loans totalled ${PPP/1000000:.0F} million in 2021\")\n"
   ]
  },
  {
   "cell_type": "code",
   "execution_count": 5,
   "id": "b05f41fd",
   "metadata": {},
   "outputs": [],
   "source": [
    "Salary_1973=45000"
   ]
  },
  {
   "cell_type": "code",
   "execution_count": 6,
   "id": "ad79569c",
   "metadata": {},
   "outputs": [],
   "source": [
    "CPI_1973=44.4\n",
    "CPI_2021=270.97"
   ]
  },
  {
   "cell_type": "code",
   "execution_count": 7,
   "id": "71b06611",
   "metadata": {},
   "outputs": [],
   "source": [
    "Salary_2021=(Salary_1973/CPI_1973)*CPI_2021"
   ]
  },
  {
   "cell_type": "code",
   "execution_count": 8,
   "id": "1f453180",
   "metadata": {},
   "outputs": [
    {
     "name": "stdout",
     "output_type": "stream",
     "text": [
      "A teacher's salary of $45,000 in 1973 is equal to $274,631.76 in 2021.\n"
     ]
    }
   ],
   "source": [
    "print(f\"A teacher's salary of ${Salary_1973:,} in 1973 is equal to ${Salary_2021:,.2F} in 2021.\")"
   ]
  },
  {
   "cell_type": "code",
   "execution_count": 9,
   "id": "7c8a33d6",
   "metadata": {},
   "outputs": [],
   "source": [
    "Violations=[\"improper touching\",\"self-medication\",\"self-prescribing\",\"opioid addiction\",\"harassment\",\"coercion\",\n",
    "            \"sexual harrassment\",\"sex\",\"sexual favor\",\"abuse of trust\",\"opiod prescriptions in return for sex\"]"
   ]
  },
  {
   "cell_type": "code",
   "execution_count": 10,
   "id": "c1f1fc5c",
   "metadata": {},
   "outputs": [
    {
     "data": {
      "text/plain": [
       "['improper touching',\n",
       " 'self-medication',\n",
       " 'self-prescribing',\n",
       " 'opioid addiction',\n",
       " 'harassment',\n",
       " 'coercion',\n",
       " 'sexual harrassment',\n",
       " 'sex',\n",
       " 'sexual favor',\n",
       " 'abuse of trust',\n",
       " 'opiod prescriptions in return for sex']"
      ]
     },
     "execution_count": 10,
     "metadata": {},
     "output_type": "execute_result"
    }
   ],
   "source": [
    "Violations\n"
   ]
  },
  {
   "cell_type": "code",
   "execution_count": 11,
   "id": "b1b70a76",
   "metadata": {},
   "outputs": [
    {
     "data": {
      "text/plain": [
       "11"
      ]
     },
     "execution_count": 11,
     "metadata": {},
     "output_type": "execute_result"
    }
   ],
   "source": [
    "len(Violations)\n",
    "\n"
   ]
  },
  {
   "cell_type": "code",
   "execution_count": null,
   "id": "64372a05",
   "metadata": {},
   "outputs": [],
   "source": []
  },
  {
   "cell_type": "code",
   "execution_count": null,
   "id": "aeb3ea63",
   "metadata": {},
   "outputs": [],
   "source": []
  },
  {
   "cell_type": "code",
   "execution_count": null,
   "id": "232945b1",
   "metadata": {},
   "outputs": [],
   "source": []
  }
 ],
 "metadata": {
  "kernelspec": {
   "display_name": "Python 3 (ipykernel)",
   "language": "python",
   "name": "python3"
  },
  "language_info": {
   "codemirror_mode": {
    "name": "ipython",
    "version": 3
   },
   "file_extension": ".py",
   "mimetype": "text/x-python",
   "name": "python",
   "nbconvert_exporter": "python",
   "pygments_lexer": "ipython3",
   "version": "3.9.13"
  }
 },
 "nbformat": 4,
 "nbformat_minor": 5
}
