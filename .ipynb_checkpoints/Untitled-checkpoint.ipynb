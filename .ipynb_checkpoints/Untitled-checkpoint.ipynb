{
 "cells": [
  {
   "cell_type": "code",
   "execution_count": 1,
   "id": "f976bffc",
   "metadata": {},
   "outputs": [],
   "source": [
    "PPP=45300000"
   ]
  },
  {
   "cell_type": "code",
   "execution_count": 3,
   "id": "502da2a5",
   "metadata": {},
   "outputs": [
    {
     "name": "stdout",
     "output_type": "stream",
     "text": [
      "Paycheck Protection Plan loans totalled $45 million in 2021\n"
     ]
    }
   ],
   "source": [
    "print(f\"Paycheck Protection Plan loans totalled ${PPP/1000000:.0F} million in 2021\")\n"
   ]
  },
  {
   "cell_type": "code",
   "execution_count": 12,
   "id": "215d42ff",
   "metadata": {},
   "outputs": [],
   "source": [
    "Salary_1973=45000"
   ]
  },
  {
   "cell_type": "code",
   "execution_count": 14,
   "id": "1ca02729",
   "metadata": {},
   "outputs": [],
   "source": [
    "CPI_1973=44.4\n",
    "CPI_2021=270.97"
   ]
  },
  {
   "cell_type": "code",
   "execution_count": 15,
   "id": "7db183ec",
   "metadata": {},
   "outputs": [],
   "source": [
    "Salary_2021=(Salary_1973/CPI_1973)*CPI_2021"
   ]
  },
  {
   "cell_type": "code",
   "execution_count": 16,
   "id": "f2d0db5e",
   "metadata": {},
   "outputs": [
    {
     "name": "stdout",
     "output_type": "stream",
     "text": [
      "A teacher's salary of $45,000 in 1973 is equal to $274,631.7567567568 in 2021.\n"
     ]
    }
   ],
   "source": [
    "print(f\"A teacher's salary of ${Salary_1973:,} in 1973 is equal to ${Salary_2021:,} in 2021.\")"
   ]
  },
  {
   "cell_type": "code",
   "execution_count": 17,
   "id": "4214f5f4",
   "metadata": {},
   "outputs": [],
   "source": [
    "Violations=[\"improper touching\",\"self-medication\",\"self-prescribing\",\"opioid addiction\",\"harassment\",\"coercion\",\n",
    "            \"sexual harrassment\",\"sex\",\"sexual favor\",\"abuse of trust\",\"opiod prescriptions in return for sex\"]"
   ]
  },
  {
   "cell_type": "code",
   "execution_count": 18,
   "id": "47d53b2d",
   "metadata": {},
   "outputs": [
    {
     "data": {
      "text/plain": [
       "['improper touching',\n",
       " 'self-medication',\n",
       " 'self-prescribing',\n",
       " 'opioid addiction',\n",
       " 'harassment',\n",
       " 'coercion',\n",
       " 'sexual harrassment',\n",
       " 'sex',\n",
       " 'sexual favor',\n",
       " 'abuse of trust',\n",
       " 'opiod prescriptions in return for sex']"
      ]
     },
     "execution_count": 18,
     "metadata": {},
     "output_type": "execute_result"
    }
   ],
   "source": [
    "Violations\n"
   ]
  },
  {
   "cell_type": "code",
   "execution_count": 20,
   "id": "1f1234d2",
   "metadata": {},
   "outputs": [
    {
     "data": {
      "text/plain": [
       "11"
      ]
     },
     "execution_count": 20,
     "metadata": {},
     "output_type": "execute_result"
    }
   ],
   "source": [
    "len(Violations)\n",
    "\n"
   ]
  },
  {
   "cell_type": "code",
   "execution_count": null,
   "id": "ff5d4166",
   "metadata": {},
   "outputs": [],
   "source": []
  }
 ],
 "metadata": {
  "kernelspec": {
   "display_name": "Python 3 (ipykernel)",
   "language": "python",
   "name": "python3"
  },
  "language_info": {
   "codemirror_mode": {
    "name": "ipython",
    "version": 3
   },
   "file_extension": ".py",
   "mimetype": "text/x-python",
   "name": "python",
   "nbconvert_exporter": "python",
   "pygments_lexer": "ipython3",
   "version": "3.9.13"
  }
 },
 "nbformat": 4,
 "nbformat_minor": 5
}
